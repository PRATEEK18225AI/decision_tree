{
 "cells": [
  {
   "cell_type": "code",
   "execution_count": 1,
   "metadata": {
    "executionInfo": {
     "elapsed": 1631,
     "status": "ok",
     "timestamp": 1619459036309,
     "user": {
      "displayName": "2K18/CO/255 PRATEEK KUMAR",
      "photoUrl": "https://lh3.googleusercontent.com/a-/AOh14GiC24td7L6_hx_cF1QaHONUb-eXjy0d5Kfv-Cua=s64",
      "userId": "14371223947882262598"
     },
     "user_tz": -330
    },
    "id": "GGQxJvYaGpdb"
   },
   "outputs": [],
   "source": [
    "import numpy as np\n",
    "import pandas as pd\n",
    "from sklearn.model_selection import train_test_split\n",
    "from sklearn import metrics"
   ]
  },
  {
   "cell_type": "markdown",
   "metadata": {
    "id": "Ae5l5zLBw8h8"
   },
   "source": [
    "### Loading Iris Datasets\n",
    "https://www.kaggle.com/uciml/iris"
   ]
  },
  {
   "cell_type": "code",
   "execution_count": 2,
   "metadata": {
    "executionInfo": {
     "elapsed": 872,
     "status": "ok",
     "timestamp": 1619459038176,
     "user": {
      "displayName": "2K18/CO/255 PRATEEK KUMAR",
      "photoUrl": "https://lh3.googleusercontent.com/a-/AOh14GiC24td7L6_hx_cF1QaHONUb-eXjy0d5Kfv-Cua=s64",
      "userId": "14371223947882262598"
     },
     "user_tz": -330
    },
    "id": "zlNu2x83e1M8"
   },
   "outputs": [],
   "source": [
    "df=pd.read_csv('Iris.csv')"
   ]
  },
  {
   "cell_type": "code",
   "execution_count": 3,
   "metadata": {
    "colab": {
     "base_uri": "https://localhost:8080/",
     "height": 206
    },
    "executionInfo": {
     "elapsed": 1117,
     "status": "ok",
     "timestamp": 1619459038889,
     "user": {
      "displayName": "2K18/CO/255 PRATEEK KUMAR",
      "photoUrl": "https://lh3.googleusercontent.com/a-/AOh14GiC24td7L6_hx_cF1QaHONUb-eXjy0d5Kfv-Cua=s64",
      "userId": "14371223947882262598"
     },
     "user_tz": -330
    },
    "id": "esa6cNwJLa9m",
    "outputId": "7707268f-fcf1-41f7-c00f-5519e2403fd8"
   },
   "outputs": [
    {
     "data": {
      "text/html": [
       "<div>\n",
       "<style scoped>\n",
       "    .dataframe tbody tr th:only-of-type {\n",
       "        vertical-align: middle;\n",
       "    }\n",
       "\n",
       "    .dataframe tbody tr th {\n",
       "        vertical-align: top;\n",
       "    }\n",
       "\n",
       "    .dataframe thead th {\n",
       "        text-align: right;\n",
       "    }\n",
       "</style>\n",
       "<table border=\"1\" class=\"dataframe\">\n",
       "  <thead>\n",
       "    <tr style=\"text-align: right;\">\n",
       "      <th></th>\n",
       "      <th>Id</th>\n",
       "      <th>SepalLengthCm</th>\n",
       "      <th>SepalWidthCm</th>\n",
       "      <th>PetalLengthCm</th>\n",
       "      <th>PetalWidthCm</th>\n",
       "      <th>Species</th>\n",
       "    </tr>\n",
       "  </thead>\n",
       "  <tbody>\n",
       "    <tr>\n",
       "      <th>0</th>\n",
       "      <td>1</td>\n",
       "      <td>5.1</td>\n",
       "      <td>3.5</td>\n",
       "      <td>1.4</td>\n",
       "      <td>0.2</td>\n",
       "      <td>Iris-setosa</td>\n",
       "    </tr>\n",
       "    <tr>\n",
       "      <th>1</th>\n",
       "      <td>2</td>\n",
       "      <td>4.9</td>\n",
       "      <td>3.0</td>\n",
       "      <td>1.4</td>\n",
       "      <td>0.2</td>\n",
       "      <td>Iris-setosa</td>\n",
       "    </tr>\n",
       "    <tr>\n",
       "      <th>2</th>\n",
       "      <td>3</td>\n",
       "      <td>4.7</td>\n",
       "      <td>3.2</td>\n",
       "      <td>1.3</td>\n",
       "      <td>0.2</td>\n",
       "      <td>Iris-setosa</td>\n",
       "    </tr>\n",
       "    <tr>\n",
       "      <th>3</th>\n",
       "      <td>4</td>\n",
       "      <td>4.6</td>\n",
       "      <td>3.1</td>\n",
       "      <td>1.5</td>\n",
       "      <td>0.2</td>\n",
       "      <td>Iris-setosa</td>\n",
       "    </tr>\n",
       "    <tr>\n",
       "      <th>4</th>\n",
       "      <td>5</td>\n",
       "      <td>5.0</td>\n",
       "      <td>3.6</td>\n",
       "      <td>1.4</td>\n",
       "      <td>0.2</td>\n",
       "      <td>Iris-setosa</td>\n",
       "    </tr>\n",
       "  </tbody>\n",
       "</table>\n",
       "</div>"
      ],
      "text/plain": [
       "   Id  SepalLengthCm  SepalWidthCm  PetalLengthCm  PetalWidthCm      Species\n",
       "0   1            5.1           3.5            1.4           0.2  Iris-setosa\n",
       "1   2            4.9           3.0            1.4           0.2  Iris-setosa\n",
       "2   3            4.7           3.2            1.3           0.2  Iris-setosa\n",
       "3   4            4.6           3.1            1.5           0.2  Iris-setosa\n",
       "4   5            5.0           3.6            1.4           0.2  Iris-setosa"
      ]
     },
     "execution_count": 3,
     "metadata": {
      "tags": []
     },
     "output_type": "execute_result"
    }
   ],
   "source": [
    "df.head()"
   ]
  },
  {
   "cell_type": "code",
   "execution_count": 4,
   "metadata": {
    "colab": {
     "base_uri": "https://localhost:8080/"
    },
    "executionInfo": {
     "elapsed": 1396,
     "status": "ok",
     "timestamp": 1619459044199,
     "user": {
      "displayName": "2K18/CO/255 PRATEEK KUMAR",
      "photoUrl": "https://lh3.googleusercontent.com/a-/AOh14GiC24td7L6_hx_cF1QaHONUb-eXjy0d5Kfv-Cua=s64",
      "userId": "14371223947882262598"
     },
     "user_tz": -330
    },
    "id": "jGDp3kyeNc6O",
    "outputId": "61188e92-811d-449e-e6d0-dc4e478540f9"
   },
   "outputs": [
    {
     "data": {
      "text/plain": [
       "(150, 6)"
      ]
     },
     "execution_count": 4,
     "metadata": {
      "tags": []
     },
     "output_type": "execute_result"
    }
   ],
   "source": [
    "df.shape"
   ]
  },
  {
   "cell_type": "code",
   "execution_count": 5,
   "metadata": {
    "colab": {
     "base_uri": "https://localhost:8080/"
    },
    "executionInfo": {
     "elapsed": 1123,
     "status": "ok",
     "timestamp": 1619459046734,
     "user": {
      "displayName": "2K18/CO/255 PRATEEK KUMAR",
      "photoUrl": "https://lh3.googleusercontent.com/a-/AOh14GiC24td7L6_hx_cF1QaHONUb-eXjy0d5Kfv-Cua=s64",
      "userId": "14371223947882262598"
     },
     "user_tz": -330
    },
    "id": "JkLmTde8fIqV",
    "outputId": "3c9e0fbd-0cf1-4a8e-b54d-bdf7bc45ef9c"
   },
   "outputs": [
    {
     "data": {
      "text/plain": [
       "Id                 int64\n",
       "SepalLengthCm    float64\n",
       "SepalWidthCm     float64\n",
       "PetalLengthCm    float64\n",
       "PetalWidthCm     float64\n",
       "Species           object\n",
       "dtype: object"
      ]
     },
     "execution_count": 5,
     "metadata": {
      "tags": []
     },
     "output_type": "execute_result"
    }
   ],
   "source": [
    "df.dtypes"
   ]
  },
  {
   "cell_type": "code",
   "execution_count": 6,
   "metadata": {
    "executionInfo": {
     "elapsed": 1765,
     "status": "ok",
     "timestamp": 1619459050182,
     "user": {
      "displayName": "2K18/CO/255 PRATEEK KUMAR",
      "photoUrl": "https://lh3.googleusercontent.com/a-/AOh14GiC24td7L6_hx_cF1QaHONUb-eXjy0d5Kfv-Cua=s64",
      "userId": "14371223947882262598"
     },
     "user_tz": -330
    },
    "id": "_BW_5m_TPSsI"
   },
   "outputs": [],
   "source": [
    "df.drop(columns=['Id'],inplace=True)\n",
    "df.rename(columns={'Species': 'label'},inplace=True)"
   ]
  },
  {
   "cell_type": "markdown",
   "metadata": {
    "id": "I1sHY240fZTc"
   },
   "source": [
    "### train test split"
   ]
  },
  {
   "cell_type": "code",
   "execution_count": 7,
   "metadata": {
    "executionInfo": {
     "elapsed": 886,
     "status": "ok",
     "timestamp": 1619459053078,
     "user": {
      "displayName": "2K18/CO/255 PRATEEK KUMAR",
      "photoUrl": "https://lh3.googleusercontent.com/a-/AOh14GiC24td7L6_hx_cF1QaHONUb-eXjy0d5Kfv-Cua=s64",
      "userId": "14371223947882262598"
     },
     "user_tz": -330
    },
    "id": "K_ehk4Fdfbl6"
   },
   "outputs": [],
   "source": [
    "df_train,df_test=train_test_split(df,test_size=1/5,shuffle=True)\n",
    "df_train=df_train.reset_index(drop=True)\n",
    "df_test=df_test.reset_index(drop=True)"
   ]
  },
  {
   "cell_type": "code",
   "execution_count": 8,
   "metadata": {
    "colab": {
     "base_uri": "https://localhost:8080/"
    },
    "executionInfo": {
     "elapsed": 1635,
     "status": "ok",
     "timestamp": 1619459054159,
     "user": {
      "displayName": "2K18/CO/255 PRATEEK KUMAR",
      "photoUrl": "https://lh3.googleusercontent.com/a-/AOh14GiC24td7L6_hx_cF1QaHONUb-eXjy0d5Kfv-Cua=s64",
      "userId": "14371223947882262598"
     },
     "user_tz": -330
    },
    "id": "xyWKKiatfbjT",
    "outputId": "0f163e9c-66f4-4db9-ccdd-467c453fd6a8"
   },
   "outputs": [
    {
     "name": "stdout",
     "output_type": "stream",
     "text": [
      "(120, 5) (30, 5)\n"
     ]
    }
   ],
   "source": [
    "print(df_train.shape,df_test.shape)"
   ]
  },
  {
   "cell_type": "code",
   "execution_count": 9,
   "metadata": {
    "colab": {
     "base_uri": "https://localhost:8080/",
     "height": 206
    },
    "executionInfo": {
     "elapsed": 1169,
     "status": "ok",
     "timestamp": 1619459058214,
     "user": {
      "displayName": "2K18/CO/255 PRATEEK KUMAR",
      "photoUrl": "https://lh3.googleusercontent.com/a-/AOh14GiC24td7L6_hx_cF1QaHONUb-eXjy0d5Kfv-Cua=s64",
      "userId": "14371223947882262598"
     },
     "user_tz": -330
    },
    "id": "RoP4qWX9gJa8",
    "outputId": "ce4022f8-d395-46ec-aeb0-8cc8c97f2c68"
   },
   "outputs": [
    {
     "data": {
      "text/html": [
       "<div>\n",
       "<style scoped>\n",
       "    .dataframe tbody tr th:only-of-type {\n",
       "        vertical-align: middle;\n",
       "    }\n",
       "\n",
       "    .dataframe tbody tr th {\n",
       "        vertical-align: top;\n",
       "    }\n",
       "\n",
       "    .dataframe thead th {\n",
       "        text-align: right;\n",
       "    }\n",
       "</style>\n",
       "<table border=\"1\" class=\"dataframe\">\n",
       "  <thead>\n",
       "    <tr style=\"text-align: right;\">\n",
       "      <th></th>\n",
       "      <th>SepalLengthCm</th>\n",
       "      <th>SepalWidthCm</th>\n",
       "      <th>PetalLengthCm</th>\n",
       "      <th>PetalWidthCm</th>\n",
       "      <th>label</th>\n",
       "    </tr>\n",
       "  </thead>\n",
       "  <tbody>\n",
       "    <tr>\n",
       "      <th>0</th>\n",
       "      <td>6.8</td>\n",
       "      <td>2.8</td>\n",
       "      <td>4.8</td>\n",
       "      <td>1.4</td>\n",
       "      <td>Iris-versicolor</td>\n",
       "    </tr>\n",
       "    <tr>\n",
       "      <th>1</th>\n",
       "      <td>5.4</td>\n",
       "      <td>3.9</td>\n",
       "      <td>1.3</td>\n",
       "      <td>0.4</td>\n",
       "      <td>Iris-setosa</td>\n",
       "    </tr>\n",
       "    <tr>\n",
       "      <th>2</th>\n",
       "      <td>5.6</td>\n",
       "      <td>2.5</td>\n",
       "      <td>3.9</td>\n",
       "      <td>1.1</td>\n",
       "      <td>Iris-versicolor</td>\n",
       "    </tr>\n",
       "    <tr>\n",
       "      <th>3</th>\n",
       "      <td>5.9</td>\n",
       "      <td>3.2</td>\n",
       "      <td>4.8</td>\n",
       "      <td>1.8</td>\n",
       "      <td>Iris-versicolor</td>\n",
       "    </tr>\n",
       "    <tr>\n",
       "      <th>4</th>\n",
       "      <td>6.0</td>\n",
       "      <td>2.2</td>\n",
       "      <td>4.0</td>\n",
       "      <td>1.0</td>\n",
       "      <td>Iris-versicolor</td>\n",
       "    </tr>\n",
       "  </tbody>\n",
       "</table>\n",
       "</div>"
      ],
      "text/plain": [
       "   SepalLengthCm  SepalWidthCm  PetalLengthCm  PetalWidthCm            label\n",
       "0            6.8           2.8            4.8           1.4  Iris-versicolor\n",
       "1            5.4           3.9            1.3           0.4      Iris-setosa\n",
       "2            5.6           2.5            3.9           1.1  Iris-versicolor\n",
       "3            5.9           3.2            4.8           1.8  Iris-versicolor\n",
       "4            6.0           2.2            4.0           1.0  Iris-versicolor"
      ]
     },
     "execution_count": 9,
     "metadata": {
      "tags": []
     },
     "output_type": "execute_result"
    }
   ],
   "source": [
    "df_train.head()"
   ]
  },
  {
   "cell_type": "markdown",
   "metadata": {
    "id": "ZKTCt_sTHMsK"
   },
   "source": [
    "### Making decision tree classifier"
   ]
  },
  {
   "cell_type": "markdown",
   "metadata": {
    "id": "H0gUrrZlUehD"
   },
   "source": [
    "#### Entropy and Information Gain"
   ]
  },
  {
   "cell_type": "code",
   "execution_count": 10,
   "metadata": {
    "executionInfo": {
     "elapsed": 829,
     "status": "ok",
     "timestamp": 1619459063750,
     "user": {
      "displayName": "2K18/CO/255 PRATEEK KUMAR",
      "photoUrl": "https://lh3.googleusercontent.com/a-/AOh14GiC24td7L6_hx_cF1QaHONUb-eXjy0d5Kfv-Cua=s64",
      "userId": "14371223947882262598"
     },
     "user_tz": -330
    },
    "id": "QPR9BdP8Orsw"
   },
   "outputs": [],
   "source": [
    "# function to calculate entropy of a system\n",
    "def entropy(df):\n",
    "    '''\n",
    "    df: pandas DataFrame with numeric feature value, dataframe target column must be label.\n",
    "    Returns: Float (entropy)\n",
    "    '''\n",
    "    count=[]\n",
    "    for i in df['label'].value_counts():\n",
    "        count.append(i)\n",
    "    count=np.array(count)\n",
    "    prob=count/count.sum()\n",
    "    entropy=(-1)*np.sum(prob*np.log2(prob))\n",
    "    return entropy\n",
    "\n",
    "# function to calculate information gain about a particular feature\n",
    "def infoGain(df,f,fval):\n",
    "    ''' \n",
    "    df: pandas DataFrame with numeric feature value, dataframe target column must be label.\n",
    "    f: feature about which splitting is required,\n",
    "    fval: split value of the feature\n",
    "    Returns: Float (entropy)'''\n",
    "    old=entropy(df)\n",
    "    l=df.shape[0]\n",
    "    l1=df.loc[df[f]>=fval].shape[0]\n",
    "    l2=df.loc[df[f]<fval].shape[0]\n",
    "    new=(l1/l)*entropy(df.loc[df[f]>=fval])+(l2/l)*entropy(df.loc[df[f]<fval])\n",
    "    return old-new"
   ]
  },
  {
   "cell_type": "markdown",
   "metadata": {
    "id": "tzECLG_KUa75"
   },
   "source": [
    "#### Decision Tree Class"
   ]
  },
  {
   "cell_type": "code",
   "execution_count": 19,
   "metadata": {
    "executionInfo": {
     "elapsed": 960,
     "status": "ok",
     "timestamp": 1619459329204,
     "user": {
      "displayName": "2K18/CO/255 PRATEEK KUMAR",
      "photoUrl": "https://lh3.googleusercontent.com/a-/AOh14GiC24td7L6_hx_cF1QaHONUb-eXjy0d5Kfv-Cua=s64",
      "userId": "14371223947882262598"
     },
     "user_tz": -330
    },
    "id": "oQXTmTaTHLPx"
   },
   "outputs": [],
   "source": [
    "class Dtree:\n",
    "    ''' \n",
    "    Decision Tree Class\n",
    "    depth: current depth of the node\n",
    "    max_depth: maximum depth upto which tree should be grown\n",
    "    '''\n",
    "    def __init__(self,depth=1,max_depth=4):\n",
    "        self.pred=None\n",
    "        self.feature=None\n",
    "        self.fval=None\n",
    "        self.left=None\n",
    "        self.right=None\n",
    "        self.label_idx=None\n",
    "        self.max_depth=max_depth\n",
    "        self.depth=depth\n",
    "\n",
    "    def train(self,df):\n",
    "        '''\n",
    "        Method to build the decision tree.\n",
    "        Arguments:\n",
    "        df: pandas DataFrame with numeric feature value, dataframe target column must be label.\n",
    "        '''\n",
    "        if self.label_idx is None:\n",
    "            np.unique(df['label'].values.flatten())\n",
    "            self.label_idx={}\n",
    "            for i,k in enumerate(labels):\n",
    "                self.label_idx[k]=i\n",
    "\n",
    "        self.pred=df['label'].value_counts().idxmax()\n",
    "        if self.depth==self.max_depth:\n",
    "            return\n",
    "        if df['label'].value_counts().shape[0]>1:\n",
    "            print('Computing Information Gain!!')\n",
    "            info_max=df.columns[0]\n",
    "            val=infoGain(df,info_max,df[info_max].mean())\n",
    "            print('(feature={},infoGain={:.2f})'.format(df.columns[0],val))\n",
    "            for f in df.columns[1:-1]:\n",
    "                temp_val=infoGain(df,f,df[f].mean())\n",
    "                print('(feature={},infoGain={:.2f})'.format(f,temp_val))\n",
    "                if temp_val>val:\n",
    "                    val=infoGain(df,f,df[f].mean())\n",
    "                    info_max=f\n",
    "            self.feature=info_max\n",
    "            self.fval=df[self.feature].mean()\n",
    "            df_left=df.loc[df[self.feature]<self.fval].reset_index(drop=True)\n",
    "            df_right=df.loc[df[self.feature]>=self.fval].reset_index(drop=True)\n",
    "            print(\"\\nsplit_feature={}, left={} and right={}\".format(self.feature,df_left.shape[0],df_right.shape[0]),end='\\n\\n')\n",
    "            self.left=Dtree(self.depth+1,self.max_depth)\n",
    "            self.left.label_idx=self.label_idx\n",
    "            self.left.train(df_left)\n",
    "            self.right=Dtree(self.depth+1,self.max_depth)\n",
    "            self.right.label_idx=self.label_idx\n",
    "            self.right.train(df_right)\n",
    "    \n",
    "    def predict(self,node,series,curr_depth):\n",
    "        if curr_depth==node.max_depth:\n",
    "            return node.pred\n",
    "        if node.left is None:\n",
    "            return node.pred\n",
    "        if series[node.feature]<node.fval:\n",
    "            return node.predict(node.left,series,curr_depth+1)\n",
    "        if series[node.feature]>=node.fval:\n",
    "            return node.predict(node.right,series,curr_depth+1)\n",
    "\n",
    "    def predict_df(self,df,target=None):\n",
    "        '''\n",
    "        Method to predict labels of a given dataframe\n",
    "        Arguments:\n",
    "        df: pandas DataFrame with numeric feature value.\n",
    "        target(optional): name of target column\n",
    "        '''\n",
    "        label_idx=self.label_idx\n",
    "        y_=[]\n",
    "        y_pred=[]\n",
    "        for i in range(df.shape[0]):\n",
    "            val=self.predict(self,df.loc[i],1)\n",
    "            y_pred.append(val)\n",
    "            y_.append(label_idx[self.predict(self,df.loc[i],1)])\n",
    "        y_=np.array(y_)\n",
    "        result={'prediction':y_pred}\n",
    "        if target is not None:\n",
    "            y_true=df.label.apply(lambda x:label_idx[x]).values.flatten()\n",
    "            accuracy=((y_true==y_).sum()/len(y_true))*100\n",
    "            result['accuracy']=accuracy\n",
    "            result['metrics']=metrics.classification_report(y_true,y_)\n",
    "        return result"
   ]
  },
  {
   "cell_type": "markdown",
   "metadata": {
    "id": "MsmMXdOxqYg9"
   },
   "source": [
    "### training and testing"
   ]
  },
  {
   "cell_type": "code",
   "execution_count": 20,
   "metadata": {
    "colab": {
     "base_uri": "https://localhost:8080/"
    },
    "executionInfo": {
     "elapsed": 1356,
     "status": "ok",
     "timestamp": 1619459334313,
     "user": {
      "displayName": "2K18/CO/255 PRATEEK KUMAR",
      "photoUrl": "https://lh3.googleusercontent.com/a-/AOh14GiC24td7L6_hx_cF1QaHONUb-eXjy0d5Kfv-Cua=s64",
      "userId": "14371223947882262598"
     },
     "user_tz": -330
    },
    "id": "jYyUV32do9UR",
    "outputId": "5fe3c2e0-d410-4957-ddc3-d3694c3cce57"
   },
   "outputs": [
    {
     "name": "stdout",
     "output_type": "stream",
     "text": [
      "Computing Information Gain!!\n",
      "(feature=SepalLengthCm,infoGain=0.48)\n",
      "(feature=SepalWidthCm,infoGain=0.29)\n",
      "(feature=PetalLengthCm,infoGain=0.77)\n",
      "(feature=PetalWidthCm,infoGain=0.72)\n",
      "\n",
      "split_feature=PetalLengthCm, left=48 and right=72\n",
      "\n",
      "Computing Information Gain!!\n",
      "(feature=SepalLengthCm,infoGain=0.00)\n",
      "(feature=SepalWidthCm,infoGain=0.17)\n",
      "(feature=PetalLengthCm,infoGain=0.41)\n",
      "(feature=PetalWidthCm,infoGain=0.24)\n",
      "\n",
      "split_feature=PetalLengthCm, left=40 and right=8\n",
      "\n",
      "Computing Information Gain!!\n",
      "(feature=SepalLengthCm,infoGain=0.12)\n",
      "(feature=SepalWidthCm,infoGain=0.47)\n",
      "(feature=PetalLengthCm,infoGain=0.81)\n",
      "(feature=PetalWidthCm,infoGain=0.81)\n",
      "\n",
      "split_feature=PetalLengthCm, left=2 and right=6\n",
      "\n",
      "Computing Information Gain!!\n",
      "(feature=SepalLengthCm,infoGain=0.08)\n",
      "(feature=SepalWidthCm,infoGain=0.02)\n",
      "(feature=PetalLengthCm,infoGain=0.57)\n",
      "(feature=PetalWidthCm,infoGain=0.65)\n",
      "\n",
      "split_feature=PetalWidthCm, left=38 and right=34\n",
      "\n",
      "Computing Information Gain!!\n",
      "(feature=SepalLengthCm,infoGain=0.00)\n",
      "(feature=SepalWidthCm,infoGain=0.02)\n",
      "(feature=PetalLengthCm,infoGain=0.14)\n",
      "(feature=PetalWidthCm,infoGain=0.09)\n",
      "\n",
      "split_feature=PetalLengthCm, left=22 and right=16\n",
      "\n",
      "Computing Information Gain!!\n",
      "(feature=SepalLengthCm,infoGain=0.03)\n",
      "(feature=SepalWidthCm,infoGain=0.04)\n",
      "(feature=PetalLengthCm,infoGain=0.03)\n",
      "(feature=PetalWidthCm,infoGain=0.03)\n",
      "\n",
      "split_feature=SepalWidthCm, left=21 and right=13\n",
      "\n"
     ]
    }
   ],
   "source": [
    "dtree=Dtree()\n",
    "dtree.train(df_train)"
   ]
  },
  {
   "cell_type": "markdown",
   "metadata": {
    "id": "4gbVjR3zOgYr"
   },
   "source": [
    "### Results"
   ]
  },
  {
   "cell_type": "code",
   "execution_count": 25,
   "metadata": {
    "executionInfo": {
     "elapsed": 871,
     "status": "ok",
     "timestamp": 1619459462424,
     "user": {
      "displayName": "2K18/CO/255 PRATEEK KUMAR",
      "photoUrl": "https://lh3.googleusercontent.com/a-/AOh14GiC24td7L6_hx_cF1QaHONUb-eXjy0d5Kfv-Cua=s64",
      "userId": "14371223947882262598"
     },
     "user_tz": -330
    },
    "id": "qJcQhDaHqy7t"
   },
   "outputs": [],
   "source": [
    "result=dtree.predict_df(df_test,target='label')"
   ]
  },
  {
   "cell_type": "code",
   "execution_count": 28,
   "metadata": {
    "colab": {
     "base_uri": "https://localhost:8080/"
    },
    "executionInfo": {
     "elapsed": 1049,
     "status": "ok",
     "timestamp": 1619459625447,
     "user": {
      "displayName": "2K18/CO/255 PRATEEK KUMAR",
      "photoUrl": "https://lh3.googleusercontent.com/a-/AOh14GiC24td7L6_hx_cF1QaHONUb-eXjy0d5Kfv-Cua=s64",
      "userId": "14371223947882262598"
     },
     "user_tz": -330
    },
    "id": "IQMsHw1OTTHh",
    "outputId": "a719701d-9623-4278-f335-869436e7e3d1"
   },
   "outputs": [
    {
     "name": "stdout",
     "output_type": "stream",
     "text": [
      "accuracy=96.67\n",
      "              precision    recall  f1-score   support\n",
      "\n",
      "           0       1.00      1.00      1.00         8\n",
      "           1       1.00      0.89      0.94         9\n",
      "           2       0.93      1.00      0.96        13\n",
      "\n",
      "    accuracy                           0.97        30\n",
      "   macro avg       0.98      0.96      0.97        30\n",
      "weighted avg       0.97      0.97      0.97        30\n",
      "\n"
     ]
    }
   ],
   "source": [
    "print('accuracy={:.2f}'.format(result['accuracy']),result['metrics'],sep='\\n')"
   ]
  },
  {
   "cell_type": "markdown",
   "metadata": {
    "id": "VrUa2S5TOiet"
   },
   "source": [
    "#### Confusion Matrix"
   ]
  },
  {
   "cell_type": "code",
   "execution_count": 29,
   "metadata": {
    "executionInfo": {
     "elapsed": 837,
     "status": "ok",
     "timestamp": 1619459633979,
     "user": {
      "displayName": "2K18/CO/255 PRATEEK KUMAR",
      "photoUrl": "https://lh3.googleusercontent.com/a-/AOh14GiC24td7L6_hx_cF1QaHONUb-eXjy0d5Kfv-Cua=s64",
      "userId": "14371223947882262598"
     },
     "user_tz": -330
    },
    "id": "vK-PkBrmKRxo"
   },
   "outputs": [],
   "source": [
    "def createCFM(y_test, predictions):\n",
    "    col=np.unique(y_test)\n",
    "    mat=metrics.confusion_matrix(y_test, predictions)\n",
    "    data={col[n]:mat.T[n] for n in range(len(col))}\n",
    "    df=pd.DataFrame(data)\n",
    "    df.index=[i+'-Real' for i in col]\n",
    "    return df"
   ]
  },
  {
   "cell_type": "code",
   "execution_count": 30,
   "metadata": {
    "colab": {
     "base_uri": "https://localhost:8080/",
     "height": 143
    },
    "executionInfo": {
     "elapsed": 1017,
     "status": "ok",
     "timestamp": 1619459635810,
     "user": {
      "displayName": "2K18/CO/255 PRATEEK KUMAR",
      "photoUrl": "https://lh3.googleusercontent.com/a-/AOh14GiC24td7L6_hx_cF1QaHONUb-eXjy0d5Kfv-Cua=s64",
      "userId": "14371223947882262598"
     },
     "user_tz": -330
    },
    "id": "n2gytuSoOp79",
    "outputId": "237f1eb1-32ad-4db3-f94b-66eb47630cb1"
   },
   "outputs": [
    {
     "data": {
      "text/html": [
       "<div>\n",
       "<style scoped>\n",
       "    .dataframe tbody tr th:only-of-type {\n",
       "        vertical-align: middle;\n",
       "    }\n",
       "\n",
       "    .dataframe tbody tr th {\n",
       "        vertical-align: top;\n",
       "    }\n",
       "\n",
       "    .dataframe thead th {\n",
       "        text-align: right;\n",
       "    }\n",
       "</style>\n",
       "<table border=\"1\" class=\"dataframe\">\n",
       "  <thead>\n",
       "    <tr style=\"text-align: right;\">\n",
       "      <th></th>\n",
       "      <th>Iris-setosa</th>\n",
       "      <th>Iris-versicolor</th>\n",
       "      <th>Iris-virginica</th>\n",
       "    </tr>\n",
       "  </thead>\n",
       "  <tbody>\n",
       "    <tr>\n",
       "      <th>Iris-setosa-Real</th>\n",
       "      <td>8</td>\n",
       "      <td>0</td>\n",
       "      <td>0</td>\n",
       "    </tr>\n",
       "    <tr>\n",
       "      <th>Iris-versicolor-Real</th>\n",
       "      <td>0</td>\n",
       "      <td>8</td>\n",
       "      <td>1</td>\n",
       "    </tr>\n",
       "    <tr>\n",
       "      <th>Iris-virginica-Real</th>\n",
       "      <td>0</td>\n",
       "      <td>0</td>\n",
       "      <td>13</td>\n",
       "    </tr>\n",
       "  </tbody>\n",
       "</table>\n",
       "</div>"
      ],
      "text/plain": [
       "                      Iris-setosa  Iris-versicolor  Iris-virginica\n",
       "Iris-setosa-Real                8                0               0\n",
       "Iris-versicolor-Real            0                8               1\n",
       "Iris-virginica-Real             0                0              13"
      ]
     },
     "execution_count": 30,
     "metadata": {
      "tags": []
     },
     "output_type": "execute_result"
    }
   ],
   "source": [
    "createCFM(df_test['label'], result['prediction'])"
   ]
  },
  {
   "cell_type": "code",
   "execution_count": null,
   "metadata": {
    "id": "z1oZtZcvUS-Y"
   },
   "outputs": [],
   "source": []
  }
 ],
 "metadata": {
  "colab": {
   "collapsed_sections": [],
   "name": "Decision_Tree_Iris.ipynb",
   "provenance": []
  },
  "kernelspec": {
   "display_name": "Python 3",
   "language": "python",
   "name": "python3"
  },
  "language_info": {
   "codemirror_mode": {
    "name": "ipython",
    "version": 3
   },
   "file_extension": ".py",
   "mimetype": "text/x-python",
   "name": "python",
   "nbconvert_exporter": "python",
   "pygments_lexer": "ipython3",
   "version": "3.7.4"
  }
 },
 "nbformat": 4,
 "nbformat_minor": 1
}
